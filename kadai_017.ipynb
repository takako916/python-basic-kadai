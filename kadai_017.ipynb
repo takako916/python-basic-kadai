{
  "nbformat": 4,
  "nbformat_minor": 0,
  "metadata": {
    "colab": {
      "provenance": []
    },
    "kernelspec": {
      "name": "python3",
      "display_name": "Python 3"
    },
    "language_info": {
      "name": "python"
    }
  },
  "cells": [
    {
      "cell_type": "code",
      "source": [
        ""
      ],
      "metadata": {
        "id": "aEC3VRi7_9bB"
      },
      "execution_count": 15,
      "outputs": []
    },
    {
      "cell_type": "code",
      "source": [
        "class Human:\n",
        "    def __init__(self, name, age):\n",
        "        self.name = name\n",
        "        self.age = age\n",
        "\n",
        "    def checkadult(self):\n",
        "        if self.age >= 20:\n",
        "            print(f\"{self.name} は大人です。\")\n",
        "        else:\n",
        "            print(f\"{self.name} は大人ではありません。\")\n",
        "\n",
        "humans =[\n",
        "    Human(\"侍太郎\", 36),\n",
        "    Human(\"侍次郎\", 20),\n",
        "    Human(\"侍花子\", 18)\n",
        "]\n",
        "\n",
        "for human in humans:\n",
        "    human.checkadult()\n"
      ],
      "metadata": {
        "colab": {
          "base_uri": "https://localhost:8080/"
        },
        "id": "Or-EWnqeAB13",
        "outputId": "ba919bee-ce20-4df7-cc0b-d3be3e01f18f"
      },
      "execution_count": 21,
      "outputs": [
        {
          "output_type": "stream",
          "name": "stdout",
          "text": [
            "侍太郎 は大人です。\n",
            "侍次郎 は大人です。\n",
            "侍花子 は大人ではありません。\n"
          ]
        }
      ]
    }
  ]
}