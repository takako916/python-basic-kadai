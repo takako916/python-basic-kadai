{
  "nbformat": 4,
  "nbformat_minor": 0,
  "metadata": {
    "colab": {
      "provenance": []
    },
    "kernelspec": {
      "name": "python3",
      "display_name": "Python 3"
    },
    "language_info": {
      "name": "python"
    }
  },
  "cells": [
    {
      "cell_type": "code",
      "source": [
        "import random\n",
        "var = random.randint(0,100)\n",
        "print(var)\n",
        "\n",
        "if var%3==0 and var%5==0:\n",
        "   print(\"FizzBuzz\")\n",
        "elif var%5==0:\n",
        "  print(\"Buzz\")\n",
        "elif var%3==0:\n",
        "  print(\"Fizz\")\n",
        "else:\n",
        "  print (var)"
      ],
      "metadata": {
        "colab": {
          "base_uri": "https://localhost:8080/"
        },
        "id": "Z8Zrq9KqJqny",
        "outputId": "54a195ce-f791-46a1-ab34-a227b9c1d281"
      },
      "execution_count": 21,
      "outputs": [
        {
          "output_type": "stream",
          "name": "stdout",
          "text": [
            "12\n",
            "Fizz\n"
          ]
        }
      ]
    }
  ]
}