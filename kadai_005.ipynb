{
  "nbformat": 4,
  "nbformat_minor": 0,
  "metadata": {
    "colab": {
      "provenance": []
    },
    "kernelspec": {
      "name": "python3",
      "display_name": "Python 3"
    },
    "language_info": {
      "name": "python"
    }
  },
  "cells": [
    {
      "cell_type": "code",
      "source": [
        "top_length=10\n",
        "bottom_length=20\n",
        "height=5\n",
        "unit=\"cm²\"\n",
        "print(str((top_length+bottom_length)/2) + unit)"
      ],
      "metadata": {
        "colab": {
          "base_uri": "https://localhost:8080/"
        },
        "id": "P-9EdGk3USQW",
        "outputId": "6cd4e94f-f028-4210-a00b-6abcf57527c2"
      },
      "execution_count": 10,
      "outputs": [
        {
          "output_type": "stream",
          "name": "stdout",
          "text": [
            "15.0cm²\n"
          ]
        }
      ]
    },
    {
      "cell_type": "code",
      "source": [],
      "metadata": {
        "id": "V4_FXbQqUTOL"
      },
      "execution_count": null,
      "outputs": []
    }
  ]
}