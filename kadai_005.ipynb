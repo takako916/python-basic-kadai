{
  "nbformat": 4,
  "nbformat_minor": 0,
  "metadata": {
    "colab": {
      "provenance": []
    },
    "kernelspec": {
      "name": "python3",
      "display_name": "Python 3"
    },
    "language_info": {
      "name": "python"
    }
  },
  "cells": [
    {
      "cell_type": "code",
      "source": [
        "top_length=10\n",
        "bottom_length=20\n",
        "height=5\n",
        "unit=\"cm²\"\n",
        "area=(top_length+bottom_length)*height/2\n",
        "print(str(area) + unit)"
      ],
      "metadata": {
        "colab": {
          "base_uri": "https://localhost:8080/"
        },
        "id": "P-9EdGk3USQW",
        "outputId": "21a2ad1e-3409-416f-ceb4-d510b976eaa7"
      },
      "execution_count": 1,
      "outputs": [
        {
          "output_type": "stream",
          "name": "stdout",
          "text": [
            "75.0cm²\n"
          ]
        }
      ]
    },
    {
      "cell_type": "code",
      "source": [],
      "metadata": {
        "id": "V4_FXbQqUTOL"
      },
      "execution_count": null,
      "outputs": []
    }
  ]
}